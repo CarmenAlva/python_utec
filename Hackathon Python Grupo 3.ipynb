{
  "nbformat": 4,
  "nbformat_minor": 0,
  "metadata": {
    "colab": {
      "private_outputs": true,
      "provenance": [],
      "include_colab_link": true
    },
    "kernelspec": {
      "name": "python3",
      "display_name": "Python 3"
    },
    "language_info": {
      "name": "python"
    }
  },
  "cells": [
    {
      "cell_type": "markdown",
      "metadata": {
        "id": "view-in-github",
        "colab_type": "text"
      },
      "source": [
        "<a href=\"https://colab.research.google.com/github/CarmenAlva/python_utec/blob/main/Hackathon%20Python%20Grupo%203.ipynb\" target=\"_parent\"><img src=\"https://colab.research.google.com/assets/colab-badge.svg\" alt=\"Open In Colab\"/></a>"
      ]
    },
    {
      "cell_type": "markdown",
      "source": [
        "![picture](https://drive.google.com/uc?export=view&id=1fgw5LmnIXFKvPyfNwXr4t79DIJ11Pgtk)\n"
      ],
      "metadata": {
        "id": "Jqdn_4rWOyPw"
      }
    },
    {
      "cell_type": "markdown",
      "source": [],
      "metadata": {
        "id": "s7HzFkFRtpYn"
      }
    },
    {
      "cell_type": "markdown",
      "source": [
        "Ciuda:"
      ],
      "metadata": {
        "id": "hNyKzI2ttmq6"
      }
    },
    {
      "cell_type": "markdown",
      "source": [
        "Situación:"
      ],
      "metadata": {
        "id": "TL7PwhudtpzO"
      }
    },
    {
      "cell_type": "code",
      "execution_count": null,
      "metadata": {
        "id": "G7tW3hMjOcTm"
      },
      "outputs": [],
      "source": [
        "import pandas as pd\n",
        "df = pd.read_csv('')"
      ]
    },
    {
      "cell_type": "code",
      "source": [
        "import pandas as pd\n",
        "import seaborn as sns"
      ],
      "metadata": {
        "id": "49LbECnwVSlF"
      },
      "execution_count": null,
      "outputs": []
    },
    {
      "cell_type": "code",
      "source": [
        "df = pd.read_csv('https://data.insideairbnb.com/the-netherlands/north-holland/amsterdam/2025-06-09/data/listings.csv.gz')"
      ],
      "metadata": {
        "id": "F3v9ONRrVVgg"
      },
      "execution_count": null,
      "outputs": []
    },
    {
      "cell_type": "code",
      "source": [
        "pd.set_option('display.max_columns', None) # Esto es para poner la opción de mostrar todas las columnas\n",
        "df.head(3)"
      ],
      "metadata": {
        "id": "TslQOlqEWmP5"
      },
      "execution_count": null,
      "outputs": []
    },
    {
      "cell_type": "code",
      "source": [
        "df.info()"
      ],
      "metadata": {
        "id": "FSAdry9FWthN"
      },
      "execution_count": null,
      "outputs": []
    },
    {
      "cell_type": "code",
      "source": [
        "df2 = df[[\"id\",\"host_id\", \"listing_url\",\"host_name\", \"host_is_superhost\", \"name\", \"neighbourhood\", \"neighbourhood_cleansed\", \"host_response_rate\", \"latitude\", \"longitude\", \"room_type\", \"price\", \"number_of_reviews\", \"review_scores_rating\" ,\"accommodates\",\"bathrooms\", \"beds\",\"minimum_nights\",\"has_availability\", \"amenities\", \"license\" ]].copy()"
      ],
      "metadata": {
        "id": "R0h8oFi0XCte"
      },
      "execution_count": null,
      "outputs": []
    },
    {
      "cell_type": "code",
      "source": [
        "df2.head(3)"
      ],
      "metadata": {
        "id": "-awIhMEtYh0b"
      },
      "execution_count": null,
      "outputs": []
    },
    {
      "cell_type": "code",
      "source": [
        "#Limpiamos algunas variables como price y host_response_rate\n",
        "def limpiar(a):\n",
        "  return str(a).replace(\"$\",\"\").replace(\",\",\"\")\n",
        "df2[\"price\"] = df2[\"price\"].apply(limpiar)#replace(\"[$,]\", \"\")\n",
        "df2[\"host_response_rate\"] = df2[\"host_response_rate\"].str.replace(\"%\",\"\")"
      ],
      "metadata": {
        "id": "a75INIwFYpRm"
      },
      "execution_count": null,
      "outputs": []
    },
    {
      "cell_type": "code",
      "source": [
        "#Convertimos el precio y host_response_rate a float\n",
        "df2['price'] = df2['price'].astype(float)\n",
        "df2[\"host_response_rate\"] = df2['host_response_rate'].astype(float)"
      ],
      "metadata": {
        "id": "sWqoGsi3Y8CR"
      },
      "execution_count": null,
      "outputs": []
    },
    {
      "cell_type": "code",
      "source": [
        "df2.head()"
      ],
      "metadata": {
        "id": "iaFCN0eoY-Hz"
      },
      "execution_count": null,
      "outputs": []
    },
    {
      "cell_type": "code",
      "source": [
        "#La variable has_availability converiertela en una de True o False, los datos \"t\" son True y los \"f\" SON False covniertelo en un buleano\n",
        "\n",
        "df2['has_availability'] = df2['has_availability'].map({'t': True, 'f': False})\n",
        "df2['has_availability'] = df2['has_availability'].astype(bool)\n",
        "df2.head()"
      ],
      "metadata": {
        "id": "yzNbUMX6a6ad"
      },
      "execution_count": null,
      "outputs": []
    },
    {
      "cell_type": "code",
      "source": [
        "#La variable host_is_superhostconveriertela en una de True o False, los datos \"t\" son True y los \"f\" SON False covniertelo en un buleano\n",
        "\n",
        "df2['host_is_superhost'] = df2['host_is_superhost'].map({'t': True, 'f': False})\n",
        "df2['host_is_superhost'] = df2['host_is_superhost'].astype(bool)\n",
        "df2.head()"
      ],
      "metadata": {
        "id": "tDqwd4Zjbo8m"
      },
      "execution_count": null,
      "outputs": []
    },
    {
      "cell_type": "code",
      "source": [
        "df2.info()"
      ],
      "metadata": {
        "id": "-qEJhxmEZpEY"
      },
      "execution_count": null,
      "outputs": []
    },
    {
      "cell_type": "code",
      "source": [
        "df2.describe()"
      ],
      "metadata": {
        "id": "phKpYGIcZ-p7"
      },
      "execution_count": null,
      "outputs": []
    },
    {
      "cell_type": "code",
      "source": [
        "df2.dropna(inplace=True)"
      ],
      "metadata": {
        "id": "eitsWwk3afm_"
      },
      "execution_count": null,
      "outputs": []
    },
    {
      "cell_type": "code",
      "source": [
        "sns.set(rc={\"figure.figsize\":(10, 8)})\n",
        "sns.countplot(data = df2, x= \"beds\",hue='beds')"
      ],
      "metadata": {
        "id": "8kn4PKEtcN15"
      },
      "execution_count": null,
      "outputs": []
    },
    {
      "cell_type": "code",
      "source": [
        "sns.set(rc={\"figure.figsize\":(10, 8)})\n",
        "sns.countplot(data = df2, x= \"minimum_nights\",hue='minimum_nights')"
      ],
      "metadata": {
        "id": "Tazcf5Bad9i5"
      },
      "execution_count": null,
      "outputs": []
    },
    {
      "cell_type": "code",
      "source": [
        "sns.set(rc={\"figure.figsize\":(10, 8)})\n",
        "sns.countplot(data = df2, x= \"room_type\",hue='room_type')"
      ],
      "metadata": {
        "id": "wtd4lo1hdwpr"
      },
      "execution_count": null,
      "outputs": []
    },
    {
      "cell_type": "code",
      "source": [
        "sns.scatterplot(data = df2, x=\"number_of_reviews\", y=\"price\", hue=\"host_is_superhost\") ##bathrooms"
      ],
      "metadata": {
        "id": "jAVnh2p6cWFD"
      },
      "execution_count": null,
      "outputs": []
    },
    {
      "cell_type": "code",
      "source": [
        "import seaborn as sns\n",
        "import matplotlib.pyplot as plt\n",
        "df_precio = df2[df2[\"price\"]<1000]\n",
        "sns.distplot(df_precio[\"price\"])\n",
        "plt.show()"
      ],
      "metadata": {
        "id": "bFmCbQhApirA"
      },
      "execution_count": null,
      "outputs": []
    },
    {
      "cell_type": "code",
      "source": [
        "#vamos a eliminar los que estan por arriba de los 10k reales\n",
        "df2.drop(df2[df2['price']>=1000].index,inplace=True)"
      ],
      "metadata": {
        "id": "JO8fBocDcqD0"
      },
      "execution_count": null,
      "outputs": []
    },
    {
      "cell_type": "code",
      "source": [
        "df_filter = df2[\n",
        "    (df2['price'] < 1000) &\n",
        "    (df2['room_type'] == 'Entire home/apt') &\n",
        "    (df2['beds'] == 3) &\n",
        "    (df2['accommodates'] == 3) &\n",
        "    (df2['minimum_nights'] >= 4) &\n",
        "    (df2['host_is_superhost'] == True)\n",
        "]\n",
        "df_filter"
      ],
      "metadata": {
        "id": "WcQQhpsZhFPN"
      },
      "execution_count": null,
      "outputs": []
    },
    {
      "cell_type": "code",
      "source": [
        "sns.scatterplot(data=df2[df2['price']<1000], x=\"longitude\", y= \"latitude\", hue=\"neighbourhood_cleansed\")"
      ],
      "metadata": {
        "id": "LCdSVtL0jC6V"
      },
      "execution_count": null,
      "outputs": []
    },
    {
      "cell_type": "code",
      "source": [
        "# Importar librería Folium\n",
        "import folium\n",
        "map = folium.Map(location=[52.37403 , 4.88969], zoom_start=12)\n",
        "set(df2[\"host_is_superhost\"])\n",
        "from folium import plugins\n",
        "from folium.plugins import FastMarkerCluster\n"
      ],
      "metadata": {
        "id": "RCeRh4UskFrQ"
      },
      "execution_count": null,
      "outputs": []
    },
    {
      "cell_type": "code",
      "source": [
        "set(df2[\"host_is_superhost\"])"
      ],
      "metadata": {
        "id": "9UsWMqrTmGxV"
      },
      "execution_count": null,
      "outputs": []
    },
    {
      "cell_type": "code",
      "source": [
        "df3 = df2.loc[df2['host_is_superhost'] == True]\n",
        "df3.head()"
      ],
      "metadata": {
        "id": "1azscOpskN9K"
      },
      "execution_count": null,
      "outputs": []
    },
    {
      "cell_type": "code",
      "source": [
        "df4 = df3 #df3[df3['room_type']=='Entire home/apt']\n",
        "locations = list(zip(df4.latitude, df4.longitude,df4.id))\n",
        "\n",
        "FastMarkerCluster(data=locations).add_to(map)\n",
        "map"
      ],
      "metadata": {
        "id": "AIav9AqzknNp"
      },
      "execution_count": null,
      "outputs": []
    },
    {
      "cell_type": "code",
      "source": [
        "listTuplas = zip(df3['latitude'],df3['longitude'])\n",
        "\n",
        "#Crear marcadores sobre el mapa en base a latitude y longitude\n",
        "for lat, lon in listTuplas:\n",
        "  marker = folium.Marker(location=[lat, lon])\n",
        "  marker.add_to(map)\n",
        "map"
      ],
      "metadata": {
        "id": "Jj5R-uPFmcrq"
      },
      "execution_count": null,
      "outputs": []
    },
    {
      "cell_type": "markdown",
      "source": [
        "Segunda parte:"
      ],
      "metadata": {
        "id": "UE3ZFdqImrsW"
      }
    },
    {
      "cell_type": "code",
      "source": [
        "dfR = pd.read_csv('https://data.insideairbnb.com/the-netherlands/north-holland/amsterdam/2025-06-09/data/reviews.csv.gz', compression= 'gzip')"
      ],
      "metadata": {
        "id": "ak9555SxmuHi"
      },
      "execution_count": null,
      "outputs": []
    },
    {
      "cell_type": "code",
      "source": [
        "from PIL import Image\n",
        "from wordcloud import WordCloud, STOPWORDS, ImageColorGenerator\n",
        "import matplotlib.pyplot as plt"
      ],
      "metadata": {
        "id": "jB4Tvv3TnHmJ"
      },
      "execution_count": null,
      "outputs": []
    },
    {
      "cell_type": "code",
      "source": [
        "dfR.head(1000)"
      ],
      "metadata": {
        "id": "jaMfoEYvnJKn"
      },
      "execution_count": null,
      "outputs": []
    },
    {
      "cell_type": "code",
      "source": [
        "dfR2 = dfR[dfR['host_id'] == \t12782398]\n",
        "dfR2"
      ],
      "metadata": {
        "id": "aZJM-gYgngHo"
      },
      "execution_count": null,
      "outputs": []
    },
    {
      "cell_type": "code",
      "source": [
        "text2 = \" \".join(review for review in dfR2[\"comments\"])\n",
        "text2"
      ],
      "metadata": {
        "id": "SIiWNlAfnRX2"
      },
      "execution_count": null,
      "outputs": []
    },
    {
      "cell_type": "code",
      "source": [
        "# Create and generate a word cloud image:\n",
        "wordcloud2 = WordCloud(background_color=\"white\").generate(text2)\n",
        "\n",
        "# Display the generated image:\n",
        "plt.imshow(wordcloud2, interpolation='bilinear')\n",
        "plt.axis(\"off\")\n",
        "plt.show()"
      ],
      "metadata": {
        "id": "c7VwnJPjpCCb"
      },
      "execution_count": null,
      "outputs": []
    },
    {
      "cell_type": "markdown",
      "source": [
        "Comentarios: Se elegio la propiedad"
      ],
      "metadata": {
        "id": "6apk0qQIuDhi"
      }
    }
  ]
}