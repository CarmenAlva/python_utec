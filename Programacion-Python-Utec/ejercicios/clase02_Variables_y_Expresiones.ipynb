{
  "nbformat": 4,
  "nbformat_minor": 0,
  "metadata": {
    "colab": {
      "provenance": [],
      "include_colab_link": true
    },
    "kernelspec": {
      "name": "python3",
      "display_name": "Python 3"
    },
    "language_info": {
      "name": "python"
    }
  },
  "cells": [
    {
      "cell_type": "markdown",
      "metadata": {
        "id": "view-in-github",
        "colab_type": "text"
      },
      "source": [
        "<a href=\"https://colab.research.google.com/github/CarmenAlva/python_utec/blob/main/Programacion-Python-Utec/ejercicios/clase02_Variables_y_Expresiones.ipynb\" target=\"_parent\"><img src=\"https://colab.research.google.com/assets/colab-badge.svg\" alt=\"Open In Colab\"/></a>"
      ]
    },
    {
      "cell_type": "markdown",
      "source": [
        "<img src=\"https://posgrado.utec.edu.pe/sites/default/files/2023-08/Testimonial-home-2.jpg\" alt=\"HTML5 Icon\" width=\"900\" height=\"250\" >\n"
      ],
      "metadata": {
        "id": "cqadFmlrgAXp"
      }
    },
    {
      "cell_type": "markdown",
      "source": [
        "# **Ejercicios - Variables y Expresiones**"
      ],
      "metadata": {
        "id": "tW1-ULBmb0Cm"
      }
    },
    {
      "cell_type": "markdown",
      "source": [
        "**Ejercicio 1: Calculadora de ahorro semanal**\n",
        "\n",
        "Pide al usuario cuánto dinero ahorra cada día de lunes a domingo. Al final, muestra cuánto ahorró en total esa semana y cuánto tendría en un mes si repite el mismo patrón cada semana.\n",
        "\n",
        "- Pista: Usar 7 variables (ahorro_lunes, ahorro_martes, …), input(), float(), +, *."
      ],
      "metadata": {
        "id": "9igzfvIKqNGr"
      }
    },
    {
      "cell_type": "code",
      "source": [
        "## INICIO DE CÓDIGO\n",
        "#Ingresar variables de ahorro por dia\n",
        "ahr_lunes=float(input(\"¿Cuanto ahorras el día lunes? : \"))\n",
        "ahr_martes=float(input(\"¿Cuanto ahorras el día martes? : \"))\n",
        "ahr_miercoles=float(input(\"¿Cuanto ahorras el día miercoles? : \"))\n",
        "ahr_jueves=float(input(\"¿Cuanto ahorras el día jueves? : \"))\n",
        "ahr_viernes=float(input(\"¿Cuanto ahorras el día viernes? : \"))\n",
        "ahr_sabado=float(input(\"¿Cuanto ahorras el día sabado? : \"))\n",
        "ahr_domingo=float(input(\"¿Cuanto ahorras el día domingo? : \"))\n",
        "#Sumamos lo ahorrado en la semana\n",
        "ahr_semanal=(ahr_lunes+ahr_martes+ahr_miercoles+ahr_jueves+ahr_viernes+ahr_sabado+ahr_domingo)\n",
        "#Multiplicar por 4 lo de la semana\n",
        "ahr_mensual=ahr_semanal*4\n",
        "print(f\"\\Ahorraste en la semana: {ahr_semanal}$\")\n",
        "print(f\"\\Ahorraste en el mes: {ahr_mensual}$\")\n",
        "## FIN DE CÓDIGO"
      ],
      "metadata": {
        "id": "BX-O1-4wqWF9",
        "outputId": "83847150-7fef-417f-975c-1dd1be3901e2",
        "colab": {
          "base_uri": "https://localhost:8080/"
        }
      },
      "execution_count": 6,
      "outputs": [
        {
          "output_type": "stream",
          "name": "stdout",
          "text": [
            "¿Cuanto ahorras el día lunes? : 1\n",
            "¿Cuanto ahorras el día martes? : 2\n",
            "¿Cuanto ahorras el día miercoles? : 3\n",
            "¿Cuanto ahorras el día jueves? : 4\n",
            "¿Cuanto ahorras el día viernes? : 5\n",
            "¿Cuanto ahorras el día sabado? : 6\n",
            "¿Cuanto ahorras el día domingo? : 7\n",
            "\\Ahorraste en la semana: 28.0$\n",
            "\\Ahorraste en el mes: 112.0$\n"
          ]
        }
      ]
    },
    {
      "cell_type": "code",
      "source": [],
      "metadata": {
        "id": "M2JJFaB-zaaG"
      },
      "execution_count": null,
      "outputs": []
    },
    {
      "cell_type": "markdown",
      "source": [
        "**Ejercicio 2: Conversor de segundos**\n",
        "\n",
        "Solicita una cantidad total de segundos y muestra cuántos minutos y segundos representa.\n",
        "\n",
        "Ejemplo: 130 segundos → 2 minutos y 10 segundos\n",
        "* Pista: Usar // y %\n"
      ],
      "metadata": {
        "id": "oLaw6UggqV3E"
      }
    },
    {
      "cell_type": "code",
      "source": [
        "## INICIO DE CÓDIGO\n",
        "#Ingresar la camtidad de segundos\n",
        "segundos_totales=int(input(\"Ingresa la cantidad de segundos:\"))\n",
        "#Convertir segundos a minutos\n",
        "minutos_totales= segundos_totales//60\n",
        "segundo_sobrantes=segundos_totales%60\n",
        "#Formato final\n",
        "print(f\"{minutos_totales} minutos {segundo_sobrantes} segundos\")\n",
        "## FIN DE CÓDIGO"
      ],
      "metadata": {
        "id": "bAuxBROrqaWb",
        "outputId": "9f3ff225-c552-46f2-f30c-e2b8cc9ef022",
        "colab": {
          "base_uri": "https://localhost:8080/"
        }
      },
      "execution_count": 11,
      "outputs": [
        {
          "output_type": "stream",
          "name": "stdout",
          "text": [
            "Ingresa la cantidad de segundos:200\n",
            "3 minutos 20 segundos\n"
          ]
        }
      ]
    },
    {
      "cell_type": "markdown",
      "source": [
        "**Ejercicio 3: Puntuación de juego**\n",
        "\n",
        "Un videojuego otorga:\n",
        "\n",
        "* 10 puntos por cada estrella recolectada,\n",
        "* 50 puntos por cada gema recolectada, y\n",
        "* 1 punto por cada segundo que el jugador se mantuvo vivo.\n",
        "\n",
        "Pide al usuario las tres cantidades y muestra su puntaje total.\n",
        "\n",
        "* Pista: total = estrellas*10 + gemas*50 + tiempo"
      ],
      "metadata": {
        "id": "dK4EIGoKrW2B"
      }
    },
    {
      "cell_type": "code",
      "source": [
        "## INICIO DE CÓDIGO\n",
        "#Recolectado por el usuario\n",
        "estrellas = int(input(\"¿Cuántas estrellas tienes?: \"))\n",
        "gemas = int(input(\"¿Cuántas gemas tienes?: \"))\n",
        "segundos = int(input(\"¿Cuántos segundos sobreviviste?: \"))\n",
        "#Puntuacion tolal del usuario\n",
        "total = (estrellas * 10) + (gemas * 50) + segundos\n",
        "total\n",
        "## FIN DE CÓDIGO"
      ],
      "metadata": {
        "id": "jkBQHQF1rlUY",
        "outputId": "f899ba8e-f7bf-47d4-f25d-77b100f12c82",
        "colab": {
          "base_uri": "https://localhost:8080/"
        }
      },
      "execution_count": 14,
      "outputs": [
        {
          "name": "stdout",
          "output_type": "stream",
          "text": [
            "¿Cuántas estrellas tienes?: 10\n",
            "¿Cuántas gemas tienes?: 5\n",
            "¿Cuántos segundos sobreviviste?: 300000\n"
          ]
        },
        {
          "output_type": "execute_result",
          "data": {
            "text/plain": [
              "300350"
            ]
          },
          "metadata": {},
          "execution_count": 14
        }
      ]
    },
    {
      "cell_type": "markdown",
      "source": [
        "**Ejercicio 4: Conversor de monedas con tasa personalizada**\n",
        "\n",
        "Solicita al usuario:\n",
        "\n",
        "* El monto en soles\n",
        "* La tasa de cambio a dólares\n",
        "\n",
        "Muestra el equivalente en dólares, redondeado a 2 decimales.\n",
        "\n",
        "* Pista: Usar float(), *, round(valor, 2)"
      ],
      "metadata": {
        "id": "wW9Edl_8rlt1"
      }
    },
    {
      "cell_type": "code",
      "source": [
        "## INICIO DE CÓDIGO\n",
        "#Ingrese soles y la tasa de cambio\n",
        "soles=float(input(\"Ingrese el monto de dinero en soles: \"))\n",
        "cambio_dolares=float(input(\"Ingrese la tasa de cambio de soles a dolares del día: \"))\n",
        "#Convertir soles a dolares\n",
        "Dolares_totales=round(soles*cambio_dolares,2)\n",
        "Dolares_totales\n",
        "\n",
        "## FIN DE CÓDIGO"
      ],
      "metadata": {
        "id": "fTCsCohHrmQW",
        "outputId": "ee80ea3f-e6b8-4310-ede2-ea31898b8190",
        "colab": {
          "base_uri": "https://localhost:8080/"
        }
      },
      "execution_count": 15,
      "outputs": [
        {
          "name": "stdout",
          "output_type": "stream",
          "text": [
            "Ingrese el monto de dinero en soles: 100\n",
            "Ingrese la tasa de cambio de soles a dolares del día: 3.6578\n"
          ]
        },
        {
          "output_type": "execute_result",
          "data": {
            "text/plain": [
              "365.78"
            ]
          },
          "metadata": {},
          "execution_count": 15
        }
      ]
    },
    {
      "cell_type": "markdown",
      "source": [
        "**Ejercicio 5: Costo compartido de viaje**\n",
        "\n",
        "Tres amigos hacen un viaje y pagan distintos montos:\n",
        "\n",
        "* Ana pagó gasolina,\n",
        "* Luis pagó peajes,\n",
        "* Carla pagó comida.\n",
        "\n",
        "Pide los tres montos, calcula el total y cuánto debería aportar cada uno para que paguen igual.\n",
        "\n",
        "* Pista: Calcular el total y luego dividirlo entre 3"
      ],
      "metadata": {
        "id": "JYUyJAidrmnT"
      }
    },
    {
      "cell_type": "code",
      "source": [
        "## INICIO DE CÓDIGO\n",
        "#Detalle de los pagos\n",
        "Ana = float(input(\"¿Cuánto pagó Ana por la gasolina?: \"))\n",
        "Luis = float(input(\"¿Cuánto pagó Luis por los peajes?: \"))\n",
        "Carla = float(input(\"¿Cuánto pagó Carla por la comida?: \"))\n",
        "#Dividirlo entre todos\n",
        "gasto_total=Ana+Luis+Carla\n",
        "gasto_total\n",
        "gasto_unitario=gasto_total//3\n",
        "gasto_unitario\n",
        "## FIN DE CÓDIGO"
      ],
      "metadata": {
        "id": "SGjH-m_mrom9",
        "outputId": "1f56511e-11ca-4466-8ded-10763fb05db1",
        "colab": {
          "base_uri": "https://localhost:8080/"
        }
      },
      "execution_count": 20,
      "outputs": [
        {
          "name": "stdout",
          "output_type": "stream",
          "text": [
            "¿Cuánto pagó Ana por la gasolina?: 200\n",
            "¿Cuánto pagó Luis por los peajes?: 100\n",
            "¿Cuánto pagó Carla por la comida?: 300\n"
          ]
        },
        {
          "output_type": "execute_result",
          "data": {
            "text/plain": [
              "200.0"
            ]
          },
          "metadata": {},
          "execution_count": 20
        }
      ]
    },
    {
      "cell_type": "markdown",
      "source": [
        "**Ejercicio 6: Tiempo total de estudio**\n",
        "\n",
        "Solicita al usuario cuántas horas estudió en 4 materias distintas.\n",
        "\n",
        "Muestra el total de horas de estudio en la semana y el promedio diario (considerando 7 días).\n"
      ],
      "metadata": {
        "id": "skhBiCaCro5l"
      }
    },
    {
      "cell_type": "code",
      "source": [
        "## INICIO DE CÓDIGO\n",
        "#Horas por materia\n",
        "materia1 = float(input(\"¿Cuántas horas estudiaste para la materia 1?: \"))\n",
        "materia2 = float(input(\"¿Cuántas horas estudiaste para la materia 2?: \"))\n",
        "materia3 = float(input(\"¿Cuántas horas estudiaste para la materia 3?: \"))\n",
        "materia4 = float(input(\"¿Cuántas horas estudiaste para la materia 4?: \"))\n",
        "#Total de horas y promedio diario\n",
        "horas_totales=materia1+materia2+materia3+materia4\n",
        "horas_totales\n",
        "promedio_diario=(horas_totales/7)\n",
        "promedio_diario\n",
        "\n",
        "\n",
        "## FIN DE CÓDIGO"
      ],
      "metadata": {
        "id": "HnFuV1RPrqXQ",
        "outputId": "9e5e9e42-2815-4650-a8ad-843508cc01e7",
        "colab": {
          "base_uri": "https://localhost:8080/"
        }
      },
      "execution_count": 22,
      "outputs": [
        {
          "name": "stdout",
          "output_type": "stream",
          "text": [
            "¿Cuántas horas estudiaste para la materia 1?: 140\n",
            "¿Cuántas horas estudiaste para la materia 2?: 70\n",
            "¿Cuántas horas estudiaste para la materia 3?: 140\n",
            "¿Cuántas horas estudiaste para la materia 4?: 70\n"
          ]
        },
        {
          "output_type": "execute_result",
          "data": {
            "text/plain": [
              "60.0"
            ]
          },
          "metadata": {},
          "execution_count": 22
        }
      ]
    },
    {
      "cell_type": "markdown",
      "source": [
        "**Ejercicio 7: Nombre codificado (nivel string)**\n",
        "\n",
        "Pide al usuario su nombre completo y muestra:\n",
        "\n",
        "* La cantidad de caracteres (con len())\n",
        "* Su nombre todo en mayúsculas (.upper())\n",
        "* Su nombre todo en minúsculas (.lower())\n"
      ],
      "metadata": {
        "id": "rNjtOXKWrqs5"
      }
    },
    {
      "cell_type": "code",
      "source": [
        "## INICIO DE CÓDIGO\n",
        "#Nombre del usuario\n",
        "nombre_completo=input(\"Ingresa tu nombre completo: \")\n",
        "#Mostrar solicitud\n",
        "cantidad_caracteres=len(nombre_completo)\n",
        "nombre_mayusculas= nombre_completo.upper()\n",
        "nombre_minusculas= nombre_completo.lower()\n",
        "print(f\"\\nCaracteres: {cantidad_caracteres}\")\n",
        "print(f\"Mayúsculas: {nombre_mayusculas}\")\n",
        "print(f\"Minúsculas: {nombre_minusculas}\")\n",
        "## FIN DE CÓDIGO"
      ],
      "metadata": {
        "id": "GnGm74GXrsL0",
        "outputId": "2ae4a80b-5afe-455c-ec6a-42f059323086",
        "colab": {
          "base_uri": "https://localhost:8080/"
        }
      },
      "execution_count": 36,
      "outputs": [
        {
          "output_type": "stream",
          "name": "stdout",
          "text": [
            "Ingresa tu nombre completo: carmen\n",
            "\n",
            "Cantidad de caracteres: 6\n",
            "Nombre en mayúsculas: CARMEN\n",
            "Nombre en minúsculas: carmen\n"
          ]
        }
      ]
    },
    {
      "cell_type": "markdown",
      "source": [
        "**Ejercicio 8: Frase repetida**\n",
        "\n",
        "Pide una frase y un número n, y muestra la frase repetida n veces, cada una en una línea.\n",
        "\n",
        "* Pista: print(frase * n)  # y/o con '\\n'"
      ],
      "metadata": {
        "id": "lrhPyjmWrse2"
      }
    },
    {
      "cell_type": "code",
      "source": [
        "## INICIO DE CÓDIGO\n",
        "#Ingresa una frase\n",
        "Frase = input(\"Ingresa una frase conocida: \")\n",
        "n = int(input(\"¿Cuántas veces quieres repetir la frase?: \"))\n",
        "#Repetir frase *n veces\n",
        "print((Frase + '\\n') * n)\n",
        "## FIN DE CÓDIGO"
      ],
      "metadata": {
        "id": "Vzef3t_Lru0p",
        "outputId": "13931ea3-c95b-4327-89fd-99df19e29ba7",
        "colab": {
          "base_uri": "https://localhost:8080/"
        }
      },
      "execution_count": 37,
      "outputs": [
        {
          "output_type": "stream",
          "name": "stdout",
          "text": [
            "Ingresa una frase conocida: maullido\n",
            "¿Cuántas veces quieres repetir la frase?: 5\n",
            "maullido\n",
            "maullido\n",
            "maullido\n",
            "maullido\n",
            "maullido\n",
            "\n"
          ]
        }
      ]
    },
    {
      "cell_type": "markdown",
      "source": [
        "**Ejercicio 9: División de cuentas**\n",
        "\n",
        "Un grupo de amigos pide una cuenta por S/ 250.\n",
        "Pide al usuario cuántas personas están en el grupo y muestra cuánto debe pagar cada uno.\n",
        "\n",
        "Asegúrate de redondear el resultado a 2 decimales.\n",
        "\n",
        "* Pista: Usa la funcion round()"
      ],
      "metadata": {
        "id": "5NpbbGR_rvNH"
      }
    },
    {
      "cell_type": "code",
      "source": [
        "## INICIO DE CÓDIGO\n",
        "#Cuenta total de la mesa\n",
        "cuenta_total = 450\n",
        "#Cantidad de personas\n",
        "personas=int(input(\"¿Cuantas personas hay en el grupo?: \"))\n",
        "#Cuanto le toca a cada uno\n",
        "cuenta_unitaria=round(cuenta_total/personas,2)\n",
        "cuenta_unitaria\n",
        "## FIN DE CÓDIGO"
      ],
      "metadata": {
        "id": "uMxuVCUVrvj6",
        "outputId": "9b3b8f2e-a96a-4122-b8d1-24c66ca1a0ab",
        "colab": {
          "base_uri": "https://localhost:8080/"
        }
      },
      "execution_count": 41,
      "outputs": [
        {
          "name": "stdout",
          "output_type": "stream",
          "text": [
            "¿Cuantas personas hay en el grupo?: 2\n"
          ]
        },
        {
          "output_type": "execute_result",
          "data": {
            "text/plain": [
              "225.0"
            ]
          },
          "metadata": {},
          "execution_count": 41
        }
      ]
    },
    {
      "cell_type": "markdown",
      "source": [
        "**Ejercicio 10: Calendario de clases**\n",
        "\n",
        "Pide cuántas horas se estudia en promedio por día, y cuántos días tiene el mes.\n",
        "\n",
        "Calcula cuántas horas de estudio habrá ese mes."
      ],
      "metadata": {
        "id": "p3PYp0l4pxuI"
      }
    },
    {
      "cell_type": "code",
      "source": [
        "## INICIO DE CÓDIGO\n",
        "#Ingrese horas de estudio al dia y dias del mes\n",
        "horas_estudio= float(input(\"¿Cuántas horas estudias en promedio por día?: \"))\n",
        "dias_mes = int(input(\"¿Cuántos días tiene el mes?: \"))\n",
        "#Total de horas al mes\n",
        "horas_totales = horas_estudio * dias_mes\n",
        "horas_totales\n",
        "\n",
        "\n",
        "## FIN DE CÓDIGO"
      ],
      "metadata": {
        "id": "y1bXFffhrxk2",
        "outputId": "d6cac435-7fdc-497d-8253-f1de3b0af130",
        "colab": {
          "base_uri": "https://localhost:8080/"
        }
      },
      "execution_count": 42,
      "outputs": [
        {
          "name": "stdout",
          "output_type": "stream",
          "text": [
            "¿Cuántas horas estudias en promedio por día?: 3\n",
            "¿Cuántos días tiene el mes?: 30\n"
          ]
        },
        {
          "output_type": "execute_result",
          "data": {
            "text/plain": [
              "90.0"
            ]
          },
          "metadata": {},
          "execution_count": 42
        }
      ]
    },
    {
      "cell_type": "markdown",
      "source": [
        "---\n",
        "\n",
        "# Gracias por completar este laboratorio!\n",
        "\n",
        "---\n"
      ],
      "metadata": {
        "id": "8_ZocYoOrx3Z"
      }
    }
  ]
}